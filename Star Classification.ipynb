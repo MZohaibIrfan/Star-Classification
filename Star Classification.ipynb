{
 "cells": [
  {
   "cell_type": "code",
   "execution_count": 2,
   "id": "1bb3d8a6",
   "metadata": {
    "scrolled": true
   },
   "outputs": [],
   "source": [
    "import pandas as pd\n",
    "import numpy as np\n",
    "import seaborn as sns\n",
    "import matplotlib.pyplot as plt\n",
    "from sklearn.preprocessing import LabelEncoder\n",
    "from sklearn.neighbors import KNeighborsClassifier\n",
    "from sklearn.linear_model import LogisticRegression\n",
    "from sklearn.model_selection import train_test_split, GridSearchCV\n",
    "from sklearn.preprocessing import MinMaxScaler\n",
    "from sklearn.ensemble import VotingClassifier\n",
    "from sklearn.tree  import DecisionTreeClassifier\n",
    "from sklearn.ensemble import RandomForestClassifier\n",
    "from sklearn import tree\n",
    "from sklearn.ensemble import AdaBoostClassifier\n",
    "\n",
    "from sklearn.metrics import confusion_matrix\n",
    "from sklearn.metrics import classification_report\n",
    "\n",
    "from sklearn.metrics import f1_score\n",
    "from sklearn.metrics import accuracy_score\n",
    "from sklearn.metrics import precision_score\n",
    "from sklearn.metrics import recall_score\n"
   ]
  },
  {
   "cell_type": "code",
   "execution_count": 3,
   "id": "702efece",
   "metadata": {},
   "outputs": [
    {
     "data": {
      "text/html": [
       "<div>\n",
       "<style scoped>\n",
       "    .dataframe tbody tr th:only-of-type {\n",
       "        vertical-align: middle;\n",
       "    }\n",
       "\n",
       "    .dataframe tbody tr th {\n",
       "        vertical-align: top;\n",
       "    }\n",
       "\n",
       "    .dataframe thead th {\n",
       "        text-align: right;\n",
       "    }\n",
       "</style>\n",
       "<table border=\"1\" class=\"dataframe\">\n",
       "  <thead>\n",
       "    <tr style=\"text-align: right;\">\n",
       "      <th></th>\n",
       "      <th>Vmag</th>\n",
       "      <th>Plx</th>\n",
       "      <th>e_Plx</th>\n",
       "      <th>B-V</th>\n",
       "      <th>SpType</th>\n",
       "      <th>Amag</th>\n",
       "      <th>TargetClass</th>\n",
       "    </tr>\n",
       "  </thead>\n",
       "  <tbody>\n",
       "    <tr>\n",
       "      <th>0</th>\n",
       "      <td>5.99</td>\n",
       "      <td>13.73</td>\n",
       "      <td>0.58</td>\n",
       "      <td>1.318</td>\n",
       "      <td>K5III</td>\n",
       "      <td>16.678352</td>\n",
       "      <td>0</td>\n",
       "    </tr>\n",
       "    <tr>\n",
       "      <th>1</th>\n",
       "      <td>8.70</td>\n",
       "      <td>2.31</td>\n",
       "      <td>1.29</td>\n",
       "      <td>-0.045</td>\n",
       "      <td>B1II</td>\n",
       "      <td>15.518060</td>\n",
       "      <td>0</td>\n",
       "    </tr>\n",
       "    <tr>\n",
       "      <th>2</th>\n",
       "      <td>5.77</td>\n",
       "      <td>5.50</td>\n",
       "      <td>1.03</td>\n",
       "      <td>0.855</td>\n",
       "      <td>G5III</td>\n",
       "      <td>14.471813</td>\n",
       "      <td>0</td>\n",
       "    </tr>\n",
       "    <tr>\n",
       "      <th>3</th>\n",
       "      <td>6.72</td>\n",
       "      <td>5.26</td>\n",
       "      <td>0.74</td>\n",
       "      <td>-0.015</td>\n",
       "      <td>B7V</td>\n",
       "      <td>15.324928</td>\n",
       "      <td>1</td>\n",
       "    </tr>\n",
       "    <tr>\n",
       "      <th>4</th>\n",
       "      <td>8.76</td>\n",
       "      <td>13.44</td>\n",
       "      <td>1.16</td>\n",
       "      <td>0.584</td>\n",
       "      <td>G0V</td>\n",
       "      <td>19.401997</td>\n",
       "      <td>1</td>\n",
       "    </tr>\n",
       "    <tr>\n",
       "      <th>...</th>\n",
       "      <td>...</td>\n",
       "      <td>...</td>\n",
       "      <td>...</td>\n",
       "      <td>...</td>\n",
       "      <td>...</td>\n",
       "      <td>...</td>\n",
       "      <td>...</td>\n",
       "    </tr>\n",
       "    <tr>\n",
       "      <th>3637</th>\n",
       "      <td>7.29</td>\n",
       "      <td>3.26</td>\n",
       "      <td>0.95</td>\n",
       "      <td>1.786</td>\n",
       "      <td>K4III</td>\n",
       "      <td>14.856089</td>\n",
       "      <td>0</td>\n",
       "    </tr>\n",
       "    <tr>\n",
       "      <th>3638</th>\n",
       "      <td>8.29</td>\n",
       "      <td>6.38</td>\n",
       "      <td>1.00</td>\n",
       "      <td>0.408</td>\n",
       "      <td>F2IV/V</td>\n",
       "      <td>17.314104</td>\n",
       "      <td>1</td>\n",
       "    </tr>\n",
       "    <tr>\n",
       "      <th>3639</th>\n",
       "      <td>6.11</td>\n",
       "      <td>2.42</td>\n",
       "      <td>0.79</td>\n",
       "      <td>1.664</td>\n",
       "      <td>M0/M1IIICNp</td>\n",
       "      <td>13.029078</td>\n",
       "      <td>0</td>\n",
       "    </tr>\n",
       "    <tr>\n",
       "      <th>3640</th>\n",
       "      <td>7.94</td>\n",
       "      <td>4.94</td>\n",
       "      <td>2.90</td>\n",
       "      <td>0.210</td>\n",
       "      <td>A5V</td>\n",
       "      <td>16.408636</td>\n",
       "      <td>1</td>\n",
       "    </tr>\n",
       "    <tr>\n",
       "      <th>3641</th>\n",
       "      <td>8.81</td>\n",
       "      <td>1.87</td>\n",
       "      <td>1.23</td>\n",
       "      <td>1.176</td>\n",
       "      <td>K1/K2III</td>\n",
       "      <td>15.169209</td>\n",
       "      <td>0</td>\n",
       "    </tr>\n",
       "  </tbody>\n",
       "</table>\n",
       "<p>3642 rows × 7 columns</p>\n",
       "</div>"
      ],
      "text/plain": [
       "      Vmag    Plx  e_Plx    B-V       SpType       Amag  TargetClass\n",
       "0     5.99  13.73   0.58  1.318        K5III  16.678352            0\n",
       "1     8.70   2.31   1.29 -0.045         B1II  15.518060            0\n",
       "2     5.77   5.50   1.03  0.855        G5III  14.471813            0\n",
       "3     6.72   5.26   0.74 -0.015          B7V  15.324928            1\n",
       "4     8.76  13.44   1.16  0.584          G0V  19.401997            1\n",
       "...    ...    ...    ...    ...          ...        ...          ...\n",
       "3637  7.29   3.26   0.95  1.786        K4III  14.856089            0\n",
       "3638  8.29   6.38   1.00  0.408       F2IV/V  17.314104            1\n",
       "3639  6.11   2.42   0.79  1.664  M0/M1IIICNp  13.029078            0\n",
       "3640  7.94   4.94   2.90  0.210          A5V  16.408636            1\n",
       "3641  8.81   1.87   1.23  1.176     K1/K2III  15.169209            0\n",
       "\n",
       "[3642 rows x 7 columns]"
      ]
     },
     "execution_count": 3,
     "metadata": {},
     "output_type": "execute_result"
    }
   ],
   "source": [
    "data = pd.read_csv(\"/Users/muhammadzohaibirfan/Uni/Hkust projects (maybe)/Star Classification/Star3642_balanced.csv\")\n",
    "data"
   ]
  },
  {
   "cell_type": "markdown",
   "id": "ef679752",
   "metadata": {},
   "source": [
    "# Understanding Data"
   ]
  },
  {
   "cell_type": "code",
   "execution_count": 50,
   "id": "3565e306",
   "metadata": {},
   "outputs": [
    {
     "data": {
      "text/plain": [
       "(3642, 7)"
      ]
     },
     "execution_count": 50,
     "metadata": {},
     "output_type": "execute_result"
    }
   ],
   "source": [
    "data.shape"
   ]
  },
  {
   "cell_type": "code",
   "execution_count": 51,
   "id": "343cd3d7",
   "metadata": {},
   "outputs": [
    {
     "name": "stdout",
     "output_type": "stream",
     "text": [
      "<class 'pandas.core.frame.DataFrame'>\n",
      "RangeIndex: 3642 entries, 0 to 3641\n",
      "Data columns (total 7 columns):\n",
      " #   Column       Non-Null Count  Dtype  \n",
      "---  ------       --------------  -----  \n",
      " 0   Vmag         3642 non-null   float64\n",
      " 1   Plx          3642 non-null   float64\n",
      " 2   e_Plx        3642 non-null   float64\n",
      " 3   B-V          3642 non-null   float64\n",
      " 4   SpType       3642 non-null   int64  \n",
      " 5   Amag         3642 non-null   float64\n",
      " 6   TargetClass  3642 non-null   int64  \n",
      "dtypes: float64(5), int64(2)\n",
      "memory usage: 199.3 KB\n"
     ]
    }
   ],
   "source": [
    "data.info()"
   ]
  },
  {
   "cell_type": "code",
   "execution_count": 52,
   "id": "e8dd271d",
   "metadata": {},
   "outputs": [
    {
     "data": {
      "text/html": [
       "<div>\n",
       "<style scoped>\n",
       "    .dataframe tbody tr th:only-of-type {\n",
       "        vertical-align: middle;\n",
       "    }\n",
       "\n",
       "    .dataframe tbody tr th {\n",
       "        vertical-align: top;\n",
       "    }\n",
       "\n",
       "    .dataframe thead th {\n",
       "        text-align: right;\n",
       "    }\n",
       "</style>\n",
       "<table border=\"1\" class=\"dataframe\">\n",
       "  <thead>\n",
       "    <tr style=\"text-align: right;\">\n",
       "      <th></th>\n",
       "      <th>Vmag</th>\n",
       "      <th>Plx</th>\n",
       "      <th>e_Plx</th>\n",
       "      <th>B-V</th>\n",
       "      <th>SpType</th>\n",
       "      <th>Amag</th>\n",
       "      <th>TargetClass</th>\n",
       "    </tr>\n",
       "  </thead>\n",
       "  <tbody>\n",
       "    <tr>\n",
       "      <th>count</th>\n",
       "      <td>3642.000000</td>\n",
       "      <td>3642.000000</td>\n",
       "      <td>3642.000000</td>\n",
       "      <td>3642.000000</td>\n",
       "      <td>3642.000000</td>\n",
       "      <td>3642.000000</td>\n",
       "      <td>3642.000000</td>\n",
       "    </tr>\n",
       "    <tr>\n",
       "      <th>mean</th>\n",
       "      <td>8.120530</td>\n",
       "      <td>7.606153</td>\n",
       "      <td>1.176568</td>\n",
       "      <td>0.827077</td>\n",
       "      <td>345.969797</td>\n",
       "      <td>16.427388</td>\n",
       "      <td>0.500000</td>\n",
       "    </tr>\n",
       "    <tr>\n",
       "      <th>std</th>\n",
       "      <td>1.338875</td>\n",
       "      <td>11.924052</td>\n",
       "      <td>0.919999</td>\n",
       "      <td>0.436699</td>\n",
       "      <td>141.225224</td>\n",
       "      <td>2.428144</td>\n",
       "      <td>0.500069</td>\n",
       "    </tr>\n",
       "    <tr>\n",
       "      <th>min</th>\n",
       "      <td>0.450000</td>\n",
       "      <td>-6.820000</td>\n",
       "      <td>0.470000</td>\n",
       "      <td>-0.196000</td>\n",
       "      <td>0.000000</td>\n",
       "      <td>2.820000</td>\n",
       "      <td>0.000000</td>\n",
       "    </tr>\n",
       "    <tr>\n",
       "      <th>25%</th>\n",
       "      <td>7.370000</td>\n",
       "      <td>2.740000</td>\n",
       "      <td>0.840000</td>\n",
       "      <td>0.487250</td>\n",
       "      <td>244.000000</td>\n",
       "      <td>15.150312</td>\n",
       "      <td>0.000000</td>\n",
       "    </tr>\n",
       "    <tr>\n",
       "      <th>50%</th>\n",
       "      <td>8.390000</td>\n",
       "      <td>4.950000</td>\n",
       "      <td>1.040000</td>\n",
       "      <td>0.867000</td>\n",
       "      <td>375.000000</td>\n",
       "      <td>16.392485</td>\n",
       "      <td>0.500000</td>\n",
       "    </tr>\n",
       "    <tr>\n",
       "      <th>75%</th>\n",
       "      <td>9.060000</td>\n",
       "      <td>8.670000</td>\n",
       "      <td>1.270000</td>\n",
       "      <td>1.136000</td>\n",
       "      <td>462.000000</td>\n",
       "      <td>18.029836</td>\n",
       "      <td>1.000000</td>\n",
       "    </tr>\n",
       "    <tr>\n",
       "      <th>max</th>\n",
       "      <td>12.490000</td>\n",
       "      <td>280.270000</td>\n",
       "      <td>30.290000</td>\n",
       "      <td>2.530000</td>\n",
       "      <td>583.000000</td>\n",
       "      <td>29.249165</td>\n",
       "      <td>1.000000</td>\n",
       "    </tr>\n",
       "  </tbody>\n",
       "</table>\n",
       "</div>"
      ],
      "text/plain": [
       "              Vmag          Plx        e_Plx          B-V       SpType  \\\n",
       "count  3642.000000  3642.000000  3642.000000  3642.000000  3642.000000   \n",
       "mean      8.120530     7.606153     1.176568     0.827077   345.969797   \n",
       "std       1.338875    11.924052     0.919999     0.436699   141.225224   \n",
       "min       0.450000    -6.820000     0.470000    -0.196000     0.000000   \n",
       "25%       7.370000     2.740000     0.840000     0.487250   244.000000   \n",
       "50%       8.390000     4.950000     1.040000     0.867000   375.000000   \n",
       "75%       9.060000     8.670000     1.270000     1.136000   462.000000   \n",
       "max      12.490000   280.270000    30.290000     2.530000   583.000000   \n",
       "\n",
       "              Amag  TargetClass  \n",
       "count  3642.000000  3642.000000  \n",
       "mean     16.427388     0.500000  \n",
       "std       2.428144     0.500069  \n",
       "min       2.820000     0.000000  \n",
       "25%      15.150312     0.000000  \n",
       "50%      16.392485     0.500000  \n",
       "75%      18.029836     1.000000  \n",
       "max      29.249165     1.000000  "
      ]
     },
     "execution_count": 52,
     "metadata": {},
     "output_type": "execute_result"
    }
   ],
   "source": [
    "data.describe()"
   ]
  },
  {
   "cell_type": "code",
   "execution_count": 53,
   "id": "56dce57a",
   "metadata": {},
   "outputs": [
    {
     "data": {
      "text/plain": [
       "Vmag           0\n",
       "Plx            0\n",
       "e_Plx          0\n",
       "B-V            0\n",
       "SpType         0\n",
       "Amag           0\n",
       "TargetClass    0\n",
       "dtype: int64"
      ]
     },
     "execution_count": 53,
     "metadata": {},
     "output_type": "execute_result"
    }
   ],
   "source": [
    "data.isnull().sum()"
   ]
  },
  {
   "cell_type": "markdown",
   "id": "970ad594",
   "metadata": {},
   "source": [
    "# Data Fields Present"
   ]
  },
  {
   "cell_type": "markdown",
   "id": "a1a11eec",
   "metadata": {},
   "source": [
    "Vmag: Visual Apparent Magnitude of the Star\n",
    "\n",
    "Plx : Distance Between the Star and the Earth\n",
    "\n",
    "e_Plx:Standard Error of Plx (Drop the Row if you find the e_Plx is too high!)\n",
    "\n",
    "B-V : B-V color index. (A hot star has a B-V color index close to 0 or negative, while a cool star has a B-V color index close to 2.0. Other stars are somewhere in between.)\n",
    "\n",
    "SpType: Spectral type\n",
    "\n",
    "Amag: Absolute Magnitude of the Star\n",
    "\n",
    "TargetClass: Whether the Star is Dwarf (0) or Giant (1)"
   ]
  },
  {
   "cell_type": "code",
   "execution_count": 4,
   "id": "8df1fa5f",
   "metadata": {},
   "outputs": [
    {
     "data": {
      "text/html": [
       "<div>\n",
       "<style scoped>\n",
       "    .dataframe tbody tr th:only-of-type {\n",
       "        vertical-align: middle;\n",
       "    }\n",
       "\n",
       "    .dataframe tbody tr th {\n",
       "        vertical-align: top;\n",
       "    }\n",
       "\n",
       "    .dataframe thead th {\n",
       "        text-align: right;\n",
       "    }\n",
       "</style>\n",
       "<table border=\"1\" class=\"dataframe\">\n",
       "  <thead>\n",
       "    <tr style=\"text-align: right;\">\n",
       "      <th></th>\n",
       "      <th>Vmag</th>\n",
       "      <th>Plx</th>\n",
       "      <th>e_Plx</th>\n",
       "      <th>B-V</th>\n",
       "      <th>SpType</th>\n",
       "      <th>Amag</th>\n",
       "      <th>TargetClass</th>\n",
       "    </tr>\n",
       "  </thead>\n",
       "  <tbody>\n",
       "    <tr>\n",
       "      <th>0</th>\n",
       "      <td>5.99</td>\n",
       "      <td>13.73</td>\n",
       "      <td>0.58</td>\n",
       "      <td>1.318</td>\n",
       "      <td>K5III</td>\n",
       "      <td>16.678352</td>\n",
       "      <td>0</td>\n",
       "    </tr>\n",
       "    <tr>\n",
       "      <th>1</th>\n",
       "      <td>8.70</td>\n",
       "      <td>2.31</td>\n",
       "      <td>1.29</td>\n",
       "      <td>-0.045</td>\n",
       "      <td>B1II</td>\n",
       "      <td>15.518060</td>\n",
       "      <td>0</td>\n",
       "    </tr>\n",
       "    <tr>\n",
       "      <th>2</th>\n",
       "      <td>5.77</td>\n",
       "      <td>5.50</td>\n",
       "      <td>1.03</td>\n",
       "      <td>0.855</td>\n",
       "      <td>G5III</td>\n",
       "      <td>14.471813</td>\n",
       "      <td>0</td>\n",
       "    </tr>\n",
       "    <tr>\n",
       "      <th>3</th>\n",
       "      <td>6.72</td>\n",
       "      <td>5.26</td>\n",
       "      <td>0.74</td>\n",
       "      <td>-0.015</td>\n",
       "      <td>B7V</td>\n",
       "      <td>15.324928</td>\n",
       "      <td>1</td>\n",
       "    </tr>\n",
       "    <tr>\n",
       "      <th>4</th>\n",
       "      <td>8.76</td>\n",
       "      <td>13.44</td>\n",
       "      <td>1.16</td>\n",
       "      <td>0.584</td>\n",
       "      <td>G0V</td>\n",
       "      <td>19.401997</td>\n",
       "      <td>1</td>\n",
       "    </tr>\n",
       "    <tr>\n",
       "      <th>...</th>\n",
       "      <td>...</td>\n",
       "      <td>...</td>\n",
       "      <td>...</td>\n",
       "      <td>...</td>\n",
       "      <td>...</td>\n",
       "      <td>...</td>\n",
       "      <td>...</td>\n",
       "    </tr>\n",
       "    <tr>\n",
       "      <th>3637</th>\n",
       "      <td>7.29</td>\n",
       "      <td>3.26</td>\n",
       "      <td>0.95</td>\n",
       "      <td>1.786</td>\n",
       "      <td>K4III</td>\n",
       "      <td>14.856089</td>\n",
       "      <td>0</td>\n",
       "    </tr>\n",
       "    <tr>\n",
       "      <th>3638</th>\n",
       "      <td>8.29</td>\n",
       "      <td>6.38</td>\n",
       "      <td>1.00</td>\n",
       "      <td>0.408</td>\n",
       "      <td>F2IV/V</td>\n",
       "      <td>17.314104</td>\n",
       "      <td>1</td>\n",
       "    </tr>\n",
       "    <tr>\n",
       "      <th>3639</th>\n",
       "      <td>6.11</td>\n",
       "      <td>2.42</td>\n",
       "      <td>0.79</td>\n",
       "      <td>1.664</td>\n",
       "      <td>M0/M1IIICNp</td>\n",
       "      <td>13.029078</td>\n",
       "      <td>0</td>\n",
       "    </tr>\n",
       "    <tr>\n",
       "      <th>3640</th>\n",
       "      <td>7.94</td>\n",
       "      <td>4.94</td>\n",
       "      <td>2.90</td>\n",
       "      <td>0.210</td>\n",
       "      <td>A5V</td>\n",
       "      <td>16.408636</td>\n",
       "      <td>1</td>\n",
       "    </tr>\n",
       "    <tr>\n",
       "      <th>3641</th>\n",
       "      <td>8.81</td>\n",
       "      <td>1.87</td>\n",
       "      <td>1.23</td>\n",
       "      <td>1.176</td>\n",
       "      <td>K1/K2III</td>\n",
       "      <td>15.169209</td>\n",
       "      <td>0</td>\n",
       "    </tr>\n",
       "  </tbody>\n",
       "</table>\n",
       "<p>3642 rows × 7 columns</p>\n",
       "</div>"
      ],
      "text/plain": [
       "      Vmag    Plx  e_Plx    B-V       SpType       Amag  TargetClass\n",
       "0     5.99  13.73   0.58  1.318        K5III  16.678352            0\n",
       "1     8.70   2.31   1.29 -0.045         B1II  15.518060            0\n",
       "2     5.77   5.50   1.03  0.855        G5III  14.471813            0\n",
       "3     6.72   5.26   0.74 -0.015          B7V  15.324928            1\n",
       "4     8.76  13.44   1.16  0.584          G0V  19.401997            1\n",
       "...    ...    ...    ...    ...          ...        ...          ...\n",
       "3637  7.29   3.26   0.95  1.786        K4III  14.856089            0\n",
       "3638  8.29   6.38   1.00  0.408       F2IV/V  17.314104            1\n",
       "3639  6.11   2.42   0.79  1.664  M0/M1IIICNp  13.029078            0\n",
       "3640  7.94   4.94   2.90  0.210          A5V  16.408636            1\n",
       "3641  8.81   1.87   1.23  1.176     K1/K2III  15.169209            0\n",
       "\n",
       "[3642 rows x 7 columns]"
      ]
     },
     "execution_count": 4,
     "metadata": {},
     "output_type": "execute_result"
    }
   ],
   "source": [
    "data"
   ]
  },
  {
   "cell_type": "code",
   "execution_count": 5,
   "id": "c7b1084d",
   "metadata": {},
   "outputs": [],
   "source": [
    "distinct_values_count = data[\"SpType\"].nunique()"
   ]
  },
  {
   "cell_type": "code",
   "execution_count": 6,
   "id": "dda64d67",
   "metadata": {},
   "outputs": [
    {
     "data": {
      "text/plain": [
       "584"
      ]
     },
     "execution_count": 6,
     "metadata": {},
     "output_type": "execute_result"
    }
   ],
   "source": [
    "distinct_values_count"
   ]
  },
  {
   "cell_type": "code",
   "execution_count": 7,
   "id": "b34d6785",
   "metadata": {},
   "outputs": [
    {
     "data": {
      "text/plain": [
       "Index(['Vmag', 'Plx', 'e_Plx', 'B-V', 'SpType', 'Amag', 'TargetClass'], dtype='object')"
      ]
     },
     "execution_count": 7,
     "metadata": {},
     "output_type": "execute_result"
    }
   ],
   "source": [
    "data.columns"
   ]
  },
  {
   "cell_type": "markdown",
   "id": "7be2b7b7",
   "metadata": {},
   "source": [
    "# Encoding data value from object to numerical"
   ]
  },
  {
   "cell_type": "code",
   "execution_count": 8,
   "id": "ff6c83f6",
   "metadata": {},
   "outputs": [
    {
     "data": {
      "text/html": [
       "<div>\n",
       "<style scoped>\n",
       "    .dataframe tbody tr th:only-of-type {\n",
       "        vertical-align: middle;\n",
       "    }\n",
       "\n",
       "    .dataframe tbody tr th {\n",
       "        vertical-align: top;\n",
       "    }\n",
       "\n",
       "    .dataframe thead th {\n",
       "        text-align: right;\n",
       "    }\n",
       "</style>\n",
       "<table border=\"1\" class=\"dataframe\">\n",
       "  <thead>\n",
       "    <tr style=\"text-align: right;\">\n",
       "      <th></th>\n",
       "      <th>Vmag</th>\n",
       "      <th>Plx</th>\n",
       "      <th>e_Plx</th>\n",
       "      <th>B-V</th>\n",
       "      <th>SpType</th>\n",
       "      <th>Amag</th>\n",
       "      <th>TargetClass</th>\n",
       "    </tr>\n",
       "  </thead>\n",
       "  <tbody>\n",
       "    <tr>\n",
       "      <th>0</th>\n",
       "      <td>5.99</td>\n",
       "      <td>13.73</td>\n",
       "      <td>0.58</td>\n",
       "      <td>1.318</td>\n",
       "      <td>522</td>\n",
       "      <td>16.678352</td>\n",
       "      <td>0</td>\n",
       "    </tr>\n",
       "    <tr>\n",
       "      <th>1</th>\n",
       "      <td>8.70</td>\n",
       "      <td>2.31</td>\n",
       "      <td>1.29</td>\n",
       "      <td>-0.045</td>\n",
       "      <td>99</td>\n",
       "      <td>15.518060</td>\n",
       "      <td>0</td>\n",
       "    </tr>\n",
       "    <tr>\n",
       "      <th>2</th>\n",
       "      <td>5.77</td>\n",
       "      <td>5.50</td>\n",
       "      <td>1.03</td>\n",
       "      <td>0.855</td>\n",
       "      <td>337</td>\n",
       "      <td>14.471813</td>\n",
       "      <td>0</td>\n",
       "    </tr>\n",
       "    <tr>\n",
       "      <th>3</th>\n",
       "      <td>6.72</td>\n",
       "      <td>5.26</td>\n",
       "      <td>0.74</td>\n",
       "      <td>-0.015</td>\n",
       "      <td>150</td>\n",
       "      <td>15.324928</td>\n",
       "      <td>1</td>\n",
       "    </tr>\n",
       "    <tr>\n",
       "      <th>4</th>\n",
       "      <td>8.76</td>\n",
       "      <td>13.44</td>\n",
       "      <td>1.16</td>\n",
       "      <td>0.584</td>\n",
       "      <td>293</td>\n",
       "      <td>19.401997</td>\n",
       "      <td>1</td>\n",
       "    </tr>\n",
       "  </tbody>\n",
       "</table>\n",
       "</div>"
      ],
      "text/plain": [
       "   Vmag    Plx  e_Plx    B-V  SpType       Amag  TargetClass\n",
       "0  5.99  13.73   0.58  1.318     522  16.678352            0\n",
       "1  8.70   2.31   1.29 -0.045      99  15.518060            0\n",
       "2  5.77   5.50   1.03  0.855     337  14.471813            0\n",
       "3  6.72   5.26   0.74 -0.015     150  15.324928            1\n",
       "4  8.76  13.44   1.16  0.584     293  19.401997            1"
      ]
     },
     "execution_count": 8,
     "metadata": {},
     "output_type": "execute_result"
    }
   ],
   "source": [
    "encoder = LabelEncoder()\n",
    "\n",
    "for c in data.columns[0:]:\n",
    "    if(data[c].dtype == \"object\"):\n",
    "        data[c] = encoder.fit_transform(data[c])\n",
    "    else:\n",
    "        data[c] = data[c]\n",
    "\n",
    "data.head()"
   ]
  },
  {
   "cell_type": "code",
   "execution_count": 9,
   "id": "8de1760c",
   "metadata": {},
   "outputs": [
    {
     "name": "stdout",
     "output_type": "stream",
     "text": [
      "0 583\n"
     ]
    }
   ],
   "source": [
    "min_value = data['SpType'].min()\n",
    "max_value = data['SpType'].max()\n",
    "\n",
    "print(min_value,max_value)"
   ]
  },
  {
   "cell_type": "markdown",
   "id": "fc9c911b",
   "metadata": {},
   "source": [
    "# Splitting Data"
   ]
  },
  {
   "cell_type": "code",
   "execution_count": 10,
   "id": "356d1f9d",
   "metadata": {},
   "outputs": [],
   "source": [
    "y = data['TargetClass']\n",
    "x = data.drop(['TargetClass', 'Vmag', 'Plx', 'Amag', 'e_Plx'], axis = 1)\n",
    "\n",
    "# Split the dataset to train and test data\n",
    "train_x, test_x, train_y, test_y = train_test_split(x, y, train_size=0.8, random_state=0)"
   ]
  },
  {
   "cell_type": "markdown",
   "id": "5f953f11",
   "metadata": {},
   "source": [
    "# Normliztion Data "
   ]
  },
  {
   "cell_type": "code",
   "execution_count": 11,
   "id": "0c3f522e",
   "metadata": {},
   "outputs": [],
   "source": [
    "from sklearn.preprocessing import StandardScaler\n",
    "\n",
    "scaler = StandardScaler()\n",
    "train_x = scaler.fit_transform(train_x)\n",
    "test_x = scaler.transform(test_x)"
   ]
  },
  {
   "cell_type": "markdown",
   "id": "19fe709e",
   "metadata": {},
   "source": [
    "# Modelling\n"
   ]
  },
  {
   "cell_type": "markdown",
   "id": "93cd05c0",
   "metadata": {},
   "source": [
    "## K-nearest Neighbors"
   ]
  },
  {
   "cell_type": "code",
   "execution_count": 12,
   "id": "0038d20a",
   "metadata": {},
   "outputs": [],
   "source": [
    "parameters = {\n",
    "    \"algorithm\" : \"auto\",\n",
    "    \"leaf_size\" : 30,\n",
    "    \"metric\" : \"euclidean\",\n",
    "    \"metric_params\" : None,\n",
    "    \"n_jobs\" : 1,\n",
    "    \"n_neighbors\" : 6,\n",
    "    \"p\": 2,\n",
    "    \"weights\" : \"uniform\"\n",
    "}\n",
    "\n",
    "KNN = KNeighborsClassifier(**parameters)"
   ]
  },
  {
   "cell_type": "code",
   "execution_count": 13,
   "id": "bf263cf2",
   "metadata": {},
   "outputs": [
    {
     "data": {
      "text/html": [
       "<style>#sk-container-id-1 {color: black;}#sk-container-id-1 pre{padding: 0;}#sk-container-id-1 div.sk-toggleable {background-color: white;}#sk-container-id-1 label.sk-toggleable__label {cursor: pointer;display: block;width: 100%;margin-bottom: 0;padding: 0.3em;box-sizing: border-box;text-align: center;}#sk-container-id-1 label.sk-toggleable__label-arrow:before {content: \"▸\";float: left;margin-right: 0.25em;color: #696969;}#sk-container-id-1 label.sk-toggleable__label-arrow:hover:before {color: black;}#sk-container-id-1 div.sk-estimator:hover label.sk-toggleable__label-arrow:before {color: black;}#sk-container-id-1 div.sk-toggleable__content {max-height: 0;max-width: 0;overflow: hidden;text-align: left;background-color: #f0f8ff;}#sk-container-id-1 div.sk-toggleable__content pre {margin: 0.2em;color: black;border-radius: 0.25em;background-color: #f0f8ff;}#sk-container-id-1 input.sk-toggleable__control:checked~div.sk-toggleable__content {max-height: 200px;max-width: 100%;overflow: auto;}#sk-container-id-1 input.sk-toggleable__control:checked~label.sk-toggleable__label-arrow:before {content: \"▾\";}#sk-container-id-1 div.sk-estimator input.sk-toggleable__control:checked~label.sk-toggleable__label {background-color: #d4ebff;}#sk-container-id-1 div.sk-label input.sk-toggleable__control:checked~label.sk-toggleable__label {background-color: #d4ebff;}#sk-container-id-1 input.sk-hidden--visually {border: 0;clip: rect(1px 1px 1px 1px);clip: rect(1px, 1px, 1px, 1px);height: 1px;margin: -1px;overflow: hidden;padding: 0;position: absolute;width: 1px;}#sk-container-id-1 div.sk-estimator {font-family: monospace;background-color: #f0f8ff;border: 1px dotted black;border-radius: 0.25em;box-sizing: border-box;margin-bottom: 0.5em;}#sk-container-id-1 div.sk-estimator:hover {background-color: #d4ebff;}#sk-container-id-1 div.sk-parallel-item::after {content: \"\";width: 100%;border-bottom: 1px solid gray;flex-grow: 1;}#sk-container-id-1 div.sk-label:hover label.sk-toggleable__label {background-color: #d4ebff;}#sk-container-id-1 div.sk-serial::before {content: \"\";position: absolute;border-left: 1px solid gray;box-sizing: border-box;top: 0;bottom: 0;left: 50%;z-index: 0;}#sk-container-id-1 div.sk-serial {display: flex;flex-direction: column;align-items: center;background-color: white;padding-right: 0.2em;padding-left: 0.2em;position: relative;}#sk-container-id-1 div.sk-item {position: relative;z-index: 1;}#sk-container-id-1 div.sk-parallel {display: flex;align-items: stretch;justify-content: center;background-color: white;position: relative;}#sk-container-id-1 div.sk-item::before, #sk-container-id-1 div.sk-parallel-item::before {content: \"\";position: absolute;border-left: 1px solid gray;box-sizing: border-box;top: 0;bottom: 0;left: 50%;z-index: -1;}#sk-container-id-1 div.sk-parallel-item {display: flex;flex-direction: column;z-index: 1;position: relative;background-color: white;}#sk-container-id-1 div.sk-parallel-item:first-child::after {align-self: flex-end;width: 50%;}#sk-container-id-1 div.sk-parallel-item:last-child::after {align-self: flex-start;width: 50%;}#sk-container-id-1 div.sk-parallel-item:only-child::after {width: 0;}#sk-container-id-1 div.sk-dashed-wrapped {border: 1px dashed gray;margin: 0 0.4em 0.5em 0.4em;box-sizing: border-box;padding-bottom: 0.4em;background-color: white;}#sk-container-id-1 div.sk-label label {font-family: monospace;font-weight: bold;display: inline-block;line-height: 1.2em;}#sk-container-id-1 div.sk-label-container {text-align: center;}#sk-container-id-1 div.sk-container {/* jupyter's `normalize.less` sets `[hidden] { display: none; }` but bootstrap.min.css set `[hidden] { display: none !important; }` so we also need the `!important` here to be able to override the default hidden behavior on the sphinx rendered scikit-learn.org. See: https://github.com/scikit-learn/scikit-learn/issues/21755 */display: inline-block !important;position: relative;}#sk-container-id-1 div.sk-text-repr-fallback {display: none;}</style><div id=\"sk-container-id-1\" class=\"sk-top-container\"><div class=\"sk-text-repr-fallback\"><pre>KNeighborsClassifier(metric=&#x27;euclidean&#x27;, n_jobs=1, n_neighbors=6)</pre><b>In a Jupyter environment, please rerun this cell to show the HTML representation or trust the notebook. <br />On GitHub, the HTML representation is unable to render, please try loading this page with nbviewer.org.</b></div><div class=\"sk-container\" hidden><div class=\"sk-item\"><div class=\"sk-estimator sk-toggleable\"><input class=\"sk-toggleable__control sk-hidden--visually\" id=\"sk-estimator-id-1\" type=\"checkbox\" checked><label for=\"sk-estimator-id-1\" class=\"sk-toggleable__label sk-toggleable__label-arrow\">KNeighborsClassifier</label><div class=\"sk-toggleable__content\"><pre>KNeighborsClassifier(metric=&#x27;euclidean&#x27;, n_jobs=1, n_neighbors=6)</pre></div></div></div></div></div>"
      ],
      "text/plain": [
       "KNeighborsClassifier(metric='euclidean', n_jobs=1, n_neighbors=6)"
      ]
     },
     "execution_count": 13,
     "metadata": {},
     "output_type": "execute_result"
    }
   ],
   "source": [
    "KNN.fit(train_x,train_y)"
   ]
  },
  {
   "cell_type": "code",
   "execution_count": 14,
   "id": "4ec22499",
   "metadata": {},
   "outputs": [
    {
     "name": "stdout",
     "output_type": "stream",
     "text": [
      "              precision    recall  f1-score   support\n",
      "\n",
      "           1       0.88      0.89      0.89       359\n",
      "           0       0.89      0.89      0.89       370\n",
      "\n",
      "    accuracy                           0.89       729\n",
      "   macro avg       0.89      0.89      0.89       729\n",
      "weighted avg       0.89      0.89      0.89       729\n",
      "\n"
     ]
    }
   ],
   "source": [
    "KNN_Predictions = KNN.predict(test_x)\n",
    "\n",
    "knn_report = classification_report(test_y,KNN_Predictions,labels=[1,0])\n",
    "\n",
    "print(knn_report)"
   ]
  },
  {
   "cell_type": "code",
   "execution_count": 33,
   "id": "7b9926fd",
   "metadata": {},
   "outputs": [
    {
     "data": {
      "text/plain": [
       "0.8888888888888888"
      ]
     },
     "execution_count": 33,
     "metadata": {},
     "output_type": "execute_result"
    }
   ],
   "source": [
    "knn_accuracy = accuracy_score(test_y,KNN_Predictions)\n",
    "\n",
    "knn_accuracy"
   ]
  },
  {
   "cell_type": "code",
   "execution_count": 15,
   "id": "50a4e45c",
   "metadata": {},
   "outputs": [
    {
     "name": "stdout",
     "output_type": "stream",
     "text": [
      "[[320  39]\n",
      " [ 42 328]]\n"
     ]
    }
   ],
   "source": [
    "#Confusion Matrix\n",
    "knn_matrix = confusion_matrix(test_y,KNN_Predictions, labels = [1,0])\n",
    "\n",
    "print(knn_matrix)"
   ]
  },
  {
   "cell_type": "code",
   "execution_count": 16,
   "id": "3e399588",
   "metadata": {},
   "outputs": [
    {
     "name": "stderr",
     "output_type": "stream",
     "text": [
      "/var/folders/13/69ds98712kl8jghwycgkkmdr0000gn/T/ipykernel_47686/900867947.py:14: UserWarning: *c* argument looks like a single numeric RGB or RGBA sequence, which should be avoided as value-mapping will have precedence in case its length matches with *x* & *y*.  Please use the *color* keyword-argument or provide a 2D array with a single row if you intend to specify the same RGB or RGBA value for all points.\n",
      "  plt.scatter(x_set[y_set_one_dimension == j, 0], x_set[y_set_one_dimension == j, 1],\n"
     ]
    },
    {
     "data": {
      "image/png": "[encoded data removed]",
      "text/plain": [
       "<Figure size 640x480 with 1 Axes>"
      ]
     },
     "metadata": {},
     "output_type": "display_data"
    }
   ],
   "source": [
    "from matplotlib.axes._axes import _log as matplotlib_axes_logger\n",
    "matplotlib_axes_logger.setLevel('ERROR')\n",
    "\n",
    "from matplotlib.colors import ListedColormap\n",
    "x_set, y_set = test_x, test_y\n",
    "y_set_one_dimension = y_set\n",
    "\n",
    "x1,x2 = np.meshgrid(np.arange(start = x_set[:,0].min()-1, stop = x_set[:,0].max()+1, step = 0.1),\n",
    "                    np.arange(start = x_set[:,1].min()-1, stop = x_set[:,1].max()+1, step = 0.1))\n",
    "plt.contourf(x1,x2, KNN.predict(np.array([x1.ravel(), x2.ravel()]).T).reshape(x1.shape),\n",
    "            alpha = 0.5, cmap = ListedColormap(('red','blue')))\n",
    "\n",
    "for i, j in enumerate (np.unique(y_set)):\n",
    "  plt.scatter(x_set[y_set_one_dimension == j, 0], x_set[y_set_one_dimension == j, 1],\n",
    "              c = ListedColormap(('red','blue'))(i), label = j)\n",
    "plt.title('Stellar Classification')\n",
    "plt.xlabel('B-V')\n",
    "plt.ylabel('SpType')\n",
    "plt.legend()\n",
    "plt.show()"
   ]
  },
  {
   "cell_type": "markdown",
   "id": "e1393644",
   "metadata": {},
   "source": [
    "## Support Vector Machine"
   ]
  },
  {
   "cell_type": "code",
   "execution_count": 17,
   "id": "b54e7e4b",
   "metadata": {},
   "outputs": [],
   "source": [
    "from sklearn.svm import SVC\n",
    "\n",
    "parameters = {\n",
    "    \"C\": 1.0,\n",
    "    \"kernel\": \"rbf\",\n",
    "    \"gamma\": \"scale\",\n",
    "    \"degree\": 3,\n",
    "    \"coef0\": 0.0,\n",
    "    \"shrinking\": True,\n",
    "    \"probability\": False,\n",
    "    \"tol\": 0.001,\n",
    "    \"class_weight\": None,\n",
    "    \"verbose\": False,\n",
    "    \"max_iter\": -1,\n",
    "    \"decision_function_shape\": \"ovr\",\n",
    "    \"random_state\": None\n",
    "}\n",
    "\n",
    "svm_classifier = SVC(**parameters)"
   ]
  },
  {
   "cell_type": "code",
   "execution_count": 18,
   "id": "ab7d4de1",
   "metadata": {},
   "outputs": [
    {
     "data": {
      "text/html": [
       "<style>#sk-container-id-2 {color: black;}#sk-container-id-2 pre{padding: 0;}#sk-container-id-2 div.sk-toggleable {background-color: white;}#sk-container-id-2 label.sk-toggleable__label {cursor: pointer;display: block;width: 100%;margin-bottom: 0;padding: 0.3em;box-sizing: border-box;text-align: center;}#sk-container-id-2 label.sk-toggleable__label-arrow:before {content: \"▸\";float: left;margin-right: 0.25em;color: #696969;}#sk-container-id-2 label.sk-toggleable__label-arrow:hover:before {color: black;}#sk-container-id-2 div.sk-estimator:hover label.sk-toggleable__label-arrow:before {color: black;}#sk-container-id-2 div.sk-toggleable__content {max-height: 0;max-width: 0;overflow: hidden;text-align: left;background-color: #f0f8ff;}#sk-container-id-2 div.sk-toggleable__content pre {margin: 0.2em;color: black;border-radius: 0.25em;background-color: #f0f8ff;}#sk-container-id-2 input.sk-toggleable__control:checked~div.sk-toggleable__content {max-height: 200px;max-width: 100%;overflow: auto;}#sk-container-id-2 input.sk-toggleable__control:checked~label.sk-toggleable__label-arrow:before {content: \"▾\";}#sk-container-id-2 div.sk-estimator input.sk-toggleable__control:checked~label.sk-toggleable__label {background-color: #d4ebff;}#sk-container-id-2 div.sk-label input.sk-toggleable__control:checked~label.sk-toggleable__label {background-color: #d4ebff;}#sk-container-id-2 input.sk-hidden--visually {border: 0;clip: rect(1px 1px 1px 1px);clip: rect(1px, 1px, 1px, 1px);height: 1px;margin: -1px;overflow: hidden;padding: 0;position: absolute;width: 1px;}#sk-container-id-2 div.sk-estimator {font-family: monospace;background-color: #f0f8ff;border: 1px dotted black;border-radius: 0.25em;box-sizing: border-box;margin-bottom: 0.5em;}#sk-container-id-2 div.sk-estimator:hover {background-color: #d4ebff;}#sk-container-id-2 div.sk-parallel-item::after {content: \"\";width: 100%;border-bottom: 1px solid gray;flex-grow: 1;}#sk-container-id-2 div.sk-label:hover label.sk-toggleable__label {background-color: #d4ebff;}#sk-container-id-2 div.sk-serial::before {content: \"\";position: absolute;border-left: 1px solid gray;box-sizing: border-box;top: 0;bottom: 0;left: 50%;z-index: 0;}#sk-container-id-2 div.sk-serial {display: flex;flex-direction: column;align-items: center;background-color: white;padding-right: 0.2em;padding-left: 0.2em;position: relative;}#sk-container-id-2 div.sk-item {position: relative;z-index: 1;}#sk-container-id-2 div.sk-parallel {display: flex;align-items: stretch;justify-content: center;background-color: white;position: relative;}#sk-container-id-2 div.sk-item::before, #sk-container-id-2 div.sk-parallel-item::before {content: \"\";position: absolute;border-left: 1px solid gray;box-sizing: border-box;top: 0;bottom: 0;left: 50%;z-index: -1;}#sk-container-id-2 div.sk-parallel-item {display: flex;flex-direction: column;z-index: 1;position: relative;background-color: white;}#sk-container-id-2 div.sk-parallel-item:first-child::after {align-self: flex-end;width: 50%;}#sk-container-id-2 div.sk-parallel-item:last-child::after {align-self: flex-start;width: 50%;}#sk-container-id-2 div.sk-parallel-item:only-child::after {width: 0;}#sk-container-id-2 div.sk-dashed-wrapped {border: 1px dashed gray;margin: 0 0.4em 0.5em 0.4em;box-sizing: border-box;padding-bottom: 0.4em;background-color: white;}#sk-container-id-2 div.sk-label label {font-family: monospace;font-weight: bold;display: inline-block;line-height: 1.2em;}#sk-container-id-2 div.sk-label-container {text-align: center;}#sk-container-id-2 div.sk-container {/* jupyter's `normalize.less` sets `[hidden] { display: none; }` but bootstrap.min.css set `[hidden] { display: none !important; }` so we also need the `!important` here to be able to override the default hidden behavior on the sphinx rendered scikit-learn.org. See: https://github.com/scikit-learn/scikit-learn/issues/21755 */display: inline-block !important;position: relative;}#sk-container-id-2 div.sk-text-repr-fallback {display: none;}</style><div id=\"sk-container-id-2\" class=\"sk-top-container\"><div class=\"sk-text-repr-fallback\"><pre>SVC()</pre><b>In a Jupyter environment, please rerun this cell to show the HTML representation or trust the notebook. <br />On GitHub, the HTML representation is unable to render, please try loading this page with nbviewer.org.</b></div><div class=\"sk-container\" hidden><div class=\"sk-item\"><div class=\"sk-estimator sk-toggleable\"><input class=\"sk-toggleable__control sk-hidden--visually\" id=\"sk-estimator-id-2\" type=\"checkbox\" checked><label for=\"sk-estimator-id-2\" class=\"sk-toggleable__label sk-toggleable__label-arrow\">SVC</label><div class=\"sk-toggleable__content\"><pre>SVC()</pre></div></div></div></div></div>"
      ],
      "text/plain": [
       "SVC()"
      ]
     },
     "execution_count": 18,
     "metadata": {},
     "output_type": "execute_result"
    }
   ],
   "source": [
    "svm_classifier.fit(train_x,train_y)"
   ]
  },
  {
   "cell_type": "code",
   "execution_count": 19,
   "id": "a6d4e9b7",
   "metadata": {},
   "outputs": [
    {
     "name": "stdout",
     "output_type": "stream",
     "text": [
      "              precision    recall  f1-score   support\n",
      "\n",
      "           1       0.86      0.87      0.86       359\n",
      "           0       0.87      0.86      0.87       370\n",
      "\n",
      "    accuracy                           0.87       729\n",
      "   macro avg       0.87      0.87      0.87       729\n",
      "weighted avg       0.87      0.87      0.87       729\n",
      "\n"
     ]
    }
   ],
   "source": [
    "SVM_Predictions = svm_classifier.predict(test_x)\n",
    "\n",
    "SVM_report = classification_report(test_y,SVM_Predictions,labels=[1,0])\n",
    "\n",
    "print(SVM_report)"
   ]
  },
  {
   "cell_type": "code",
   "execution_count": 34,
   "id": "234a49da",
   "metadata": {},
   "outputs": [
    {
     "data": {
      "text/plain": [
       "0.8655692729766804"
      ]
     },
     "execution_count": 34,
     "metadata": {},
     "output_type": "execute_result"
    }
   ],
   "source": [
    "SVM_accuracy = accuracy_score(test_y,SVM_Predictions)\n",
    "\n",
    "SVM_accuracy"
   ]
  },
  {
   "cell_type": "code",
   "execution_count": 40,
   "id": "e53c9dc8",
   "metadata": {},
   "outputs": [
    {
     "name": "stdout",
     "output_type": "stream",
     "text": [
      "[[311  48]\n",
      " [ 50 320]]\n"
     ]
    }
   ],
   "source": [
    "SVM_matrix = confusion_matrix(test_y,SVM_Predictions, labels = [1,0])\n",
    "\n",
    "print(SVM_matrix)"
   ]
  },
  {
   "cell_type": "code",
   "execution_count": 56,
   "id": "20f8b6d1",
   "metadata": {},
   "outputs": [
    {
     "name": "stderr",
     "output_type": "stream",
     "text": [
      "/var/folders/13/69ds98712kl8jghwycgkkmdr0000gn/T/ipykernel_47686/2957505778.py:14: UserWarning: *c* argument looks like a single numeric RGB or RGBA sequence, which should be avoided as value-mapping will have precedence in case its length matches with *x* & *y*.  Please use the *color* keyword-argument or provide a 2D array with a single row if you intend to specify the same RGB or RGBA value for all points.\n",
      "  plt.scatter(x_set[y_set_one_dimension == j, 0], x_set[y_set_one_dimension == j, 1],\n"
     ]
    },
    {
     "data": {
      "image/png": "[encoded data removed]",
      "text/plain": [
       "<Figure size 640x480 with 1 Axes>"
      ]
     },
     "metadata": {},
     "output_type": "display_data"
    }
   ],
   "source": [
    "from matplotlib.axes._axes import _log as matplotlib_axes_logger\n",
    "matplotlib_axes_logger.setLevel('ERROR')\n",
    "\n",
    "from matplotlib.colors import ListedColormap\n",
    "x_set, y_set = test_x, test_y\n",
    "y_set_one_dimension = y_set\n",
    "\n",
    "x1,x2 = np.meshgrid(np.arange(start = x_set[:,0].min()-1, stop = x_set[:,0].max()+1, step = 0.1),\n",
    "                    np.arange(start = x_set[:,1].min()-1, stop = x_set[:,1].max()+1, step = 0.1))\n",
    "plt.contourf(x1,x2, svm_classifier.predict(np.array([x1.ravel(), x2.ravel()]).T).reshape(x1.shape),\n",
    "            alpha = 0.5, cmap = ListedColormap(('red','blue')))\n",
    "\n",
    "for i, j in enumerate (np.unique(y_set)):\n",
    "  plt.scatter(x_set[y_set_one_dimension == j, 0], x_set[y_set_one_dimension == j, 1],\n",
    "              c = ListedColormap(('red','blue'))(i), label = j)\n",
    "plt.title('Stellar Classification')\n",
    "plt.xlabel('B-V')\n",
    "plt.ylabel('SpType')\n",
    "plt.legend()\n",
    "plt.show()"
   ]
  },
  {
   "cell_type": "markdown",
   "id": "4acf8294",
   "metadata": {},
   "source": [
    "## Random Forests"
   ]
  },
  {
   "cell_type": "code",
   "execution_count": 21,
   "id": "3cc31cd9",
   "metadata": {},
   "outputs": [],
   "source": [
    "from sklearn.ensemble import RandomForestClassifier\n",
    "\n",
    "parameters = {'bootstrap': True,\n",
    "              'min_samples_leaf': 3,\n",
    "              'n_estimators': 50, \n",
    "              'min_samples_split': 10,\n",
    "              'max_features': 'sqrt',\n",
    "              'max_depth': 6,\n",
    "              'max_leaf_nodes': None}\n",
    "\n",
    "RF_model = RandomForestClassifier(**parameters)"
   ]
  },
  {
   "cell_type": "code",
   "execution_count": 22,
   "id": "5199f113",
   "metadata": {},
   "outputs": [
    {
     "data": {
      "text/html": [
       "<style>#sk-container-id-3 {color: black;}#sk-container-id-3 pre{padding: 0;}#sk-container-id-3 div.sk-toggleable {background-color: white;}#sk-container-id-3 label.sk-toggleable__label {cursor: pointer;display: block;width: 100%;margin-bottom: 0;padding: 0.3em;box-sizing: border-box;text-align: center;}#sk-container-id-3 label.sk-toggleable__label-arrow:before {content: \"▸\";float: left;margin-right: 0.25em;color: #696969;}#sk-container-id-3 label.sk-toggleable__label-arrow:hover:before {color: black;}#sk-container-id-3 div.sk-estimator:hover label.sk-toggleable__label-arrow:before {color: black;}#sk-container-id-3 div.sk-toggleable__content {max-height: 0;max-width: 0;overflow: hidden;text-align: left;background-color: #f0f8ff;}#sk-container-id-3 div.sk-toggleable__content pre {margin: 0.2em;color: black;border-radius: 0.25em;background-color: #f0f8ff;}#sk-container-id-3 input.sk-toggleable__control:checked~div.sk-toggleable__content {max-height: 200px;max-width: 100%;overflow: auto;}#sk-container-id-3 input.sk-toggleable__control:checked~label.sk-toggleable__label-arrow:before {content: \"▾\";}#sk-container-id-3 div.sk-estimator input.sk-toggleable__control:checked~label.sk-toggleable__label {background-color: #d4ebff;}#sk-container-id-3 div.sk-label input.sk-toggleable__control:checked~label.sk-toggleable__label {background-color: #d4ebff;}#sk-container-id-3 input.sk-hidden--visually {border: 0;clip: rect(1px 1px 1px 1px);clip: rect(1px, 1px, 1px, 1px);height: 1px;margin: -1px;overflow: hidden;padding: 0;position: absolute;width: 1px;}#sk-container-id-3 div.sk-estimator {font-family: monospace;background-color: #f0f8ff;border: 1px dotted black;border-radius: 0.25em;box-sizing: border-box;margin-bottom: 0.5em;}#sk-container-id-3 div.sk-estimator:hover {background-color: #d4ebff;}#sk-container-id-3 div.sk-parallel-item::after {content: \"\";width: 100%;border-bottom: 1px solid gray;flex-grow: 1;}#sk-container-id-3 div.sk-label:hover label.sk-toggleable__label {background-color: #d4ebff;}#sk-container-id-3 div.sk-serial::before {content: \"\";position: absolute;border-left: 1px solid gray;box-sizing: border-box;top: 0;bottom: 0;left: 50%;z-index: 0;}#sk-container-id-3 div.sk-serial {display: flex;flex-direction: column;align-items: center;background-color: white;padding-right: 0.2em;padding-left: 0.2em;position: relative;}#sk-container-id-3 div.sk-item {position: relative;z-index: 1;}#sk-container-id-3 div.sk-parallel {display: flex;align-items: stretch;justify-content: center;background-color: white;position: relative;}#sk-container-id-3 div.sk-item::before, #sk-container-id-3 div.sk-parallel-item::before {content: \"\";position: absolute;border-left: 1px solid gray;box-sizing: border-box;top: 0;bottom: 0;left: 50%;z-index: -1;}#sk-container-id-3 div.sk-parallel-item {display: flex;flex-direction: column;z-index: 1;position: relative;background-color: white;}#sk-container-id-3 div.sk-parallel-item:first-child::after {align-self: flex-end;width: 50%;}#sk-container-id-3 div.sk-parallel-item:last-child::after {align-self: flex-start;width: 50%;}#sk-container-id-3 div.sk-parallel-item:only-child::after {width: 0;}#sk-container-id-3 div.sk-dashed-wrapped {border: 1px dashed gray;margin: 0 0.4em 0.5em 0.4em;box-sizing: border-box;padding-bottom: 0.4em;background-color: white;}#sk-container-id-3 div.sk-label label {font-family: monospace;font-weight: bold;display: inline-block;line-height: 1.2em;}#sk-container-id-3 div.sk-label-container {text-align: center;}#sk-container-id-3 div.sk-container {/* jupyter's `normalize.less` sets `[hidden] { display: none; }` but bootstrap.min.css set `[hidden] { display: none !important; }` so we also need the `!important` here to be able to override the default hidden behavior on the sphinx rendered scikit-learn.org. See: https://github.com/scikit-learn/scikit-learn/issues/21755 */display: inline-block !important;position: relative;}#sk-container-id-3 div.sk-text-repr-fallback {display: none;}</style><div id=\"sk-container-id-3\" class=\"sk-top-container\"><div class=\"sk-text-repr-fallback\"><pre>RandomForestClassifier(max_depth=6, min_samples_leaf=3, min_samples_split=10,\n",
       "                       n_estimators=50)</pre><b>In a Jupyter environment, please rerun this cell to show the HTML representation or trust the notebook. <br />On GitHub, the HTML representation is unable to render, please try loading this page with nbviewer.org.</b></div><div class=\"sk-container\" hidden><div class=\"sk-item\"><div class=\"sk-estimator sk-toggleable\"><input class=\"sk-toggleable__control sk-hidden--visually\" id=\"sk-estimator-id-3\" type=\"checkbox\" checked><label for=\"sk-estimator-id-3\" class=\"sk-toggleable__label sk-toggleable__label-arrow\">RandomForestClassifier</label><div class=\"sk-toggleable__content\"><pre>RandomForestClassifier(max_depth=6, min_samples_leaf=3, min_samples_split=10,\n",
       "                       n_estimators=50)</pre></div></div></div></div></div>"
      ],
      "text/plain": [
       "RandomForestClassifier(max_depth=6, min_samples_leaf=3, min_samples_split=10,\n",
       "                       n_estimators=50)"
      ]
     },
     "execution_count": 22,
     "metadata": {},
     "output_type": "execute_result"
    }
   ],
   "source": [
    "RF_model.fit(train_x,train_y)"
   ]
  },
  {
   "cell_type": "code",
   "execution_count": 35,
   "id": "4b0f5eef",
   "metadata": {},
   "outputs": [
    {
     "name": "stdout",
     "output_type": "stream",
     "text": [
      "              precision    recall  f1-score   support\n",
      "\n",
      "           1       0.88      0.93      0.90       359\n",
      "           0       0.93      0.88      0.90       370\n",
      "\n",
      "    accuracy                           0.90       729\n",
      "   macro avg       0.90      0.90      0.90       729\n",
      "weighted avg       0.91      0.90      0.90       729\n",
      "\n"
     ]
    }
   ],
   "source": [
    "RF_predictions = RF_model.predict(test_x)\n",
    "\n",
    "RF_report = classification_report(test_y,RF_predictions,labels=[1,0])\n",
    "\n",
    "print(RF_report)"
   ]
  },
  {
   "cell_type": "code",
   "execution_count": 37,
   "id": "d9e53ba7",
   "metadata": {},
   "outputs": [
    {
     "data": {
      "text/plain": [
       "0.9039780521262003"
      ]
     },
     "execution_count": 37,
     "metadata": {},
     "output_type": "execute_result"
    }
   ],
   "source": [
    "RF_accuracy = accuracy_score(test_y,RF_predictions)\n",
    "\n",
    "RF_accuracy"
   ]
  },
  {
   "cell_type": "code",
   "execution_count": 39,
   "id": "e9683ab0",
   "metadata": {},
   "outputs": [
    {
     "name": "stdout",
     "output_type": "stream",
     "text": [
      "[[333  26]\n",
      " [ 44 326]]\n"
     ]
    }
   ],
   "source": [
    "RF_matrix = confusion_matrix(test_y,RF_predictions, labels = [1,0])\n",
    "\n",
    "print(RF_matrix)"
   ]
  },
  {
   "cell_type": "code",
   "execution_count": 24,
   "id": "67c60241",
   "metadata": {},
   "outputs": [
    {
     "name": "stderr",
     "output_type": "stream",
     "text": [
      "/var/folders/13/69ds98712kl8jghwycgkkmdr0000gn/T/ipykernel_47686/416100564.py:14: UserWarning: *c* argument looks like a single numeric RGB or RGBA sequence, which should be avoided as value-mapping will have precedence in case its length matches with *x* & *y*.  Please use the *color* keyword-argument or provide a 2D array with a single row if you intend to specify the same RGB or RGBA value for all points.\n",
      "  plt.scatter(x_set[y_set_one_dimension == j, 0], x_set[y_set_one_dimension == j, 1],\n"
     ]
    },
    {
     "data": {
      "image/png": "[encoded data removed]",
      "text/plain": [
       "<Figure size 640x480 with 1 Axes>"
      ]
     },
     "metadata": {},
     "output_type": "display_data"
    }
   ],
   "source": [
    "from matplotlib.axes._axes import _log as matplotlib_axes_logger\n",
    "matplotlib_axes_logger.setLevel('ERROR')\n",
    "\n",
    "from matplotlib.colors import ListedColormap\n",
    "x_set, y_set = test_x, test_y\n",
    "y_set_one_dimension = y_set\n",
    "\n",
    "x1,x2 = np.meshgrid(np.arange(start = x_set[:,0].min()-1, stop = x_set[:,0].max()+1, step = 0.1),\n",
    "                    np.arange(start = x_set[:,1].min()-1, stop = x_set[:,1].max()+1, step = 0.1))\n",
    "plt.contourf(x1,x2, RF_model.predict(np.array([x1.ravel(), x2.ravel()]).T).reshape(x1.shape),\n",
    "            alpha = 0.5, cmap = ListedColormap(('red','blue')))\n",
    "\n",
    "for i, j in enumerate (np.unique(y_set)):\n",
    "  plt.scatter(x_set[y_set_one_dimension == j, 0], x_set[y_set_one_dimension == j, 1],\n",
    "              c = ListedColormap(('red','blue'))(i), label = j)\n",
    "plt.title('Stellar Classification')\n",
    "plt.xlabel('B-V')\n",
    "plt.ylabel('SpType')\n",
    "plt.legend()\n",
    "plt.show()"
   ]
  },
  {
   "cell_type": "markdown",
   "id": "54bdd921",
   "metadata": {},
   "source": [
    "## Logistic Regression"
   ]
  },
  {
   "cell_type": "code",
   "execution_count": 25,
   "id": "98e891e3",
   "metadata": {},
   "outputs": [],
   "source": [
    "from sklearn.linear_model import LogisticRegression\n",
    "\n",
    "parameters = {\n",
    "    'penalty': 'l2',\n",
    "    'C': 1.0,\n",
    "    'fit_intercept': True,\n",
    "    'solver': 'lbfgs',\n",
    "    'max_iter': 100,\n",
    "    'multi_class': 'auto',\n",
    "    'random_state': None\n",
    "}\n",
    "\n",
    "logistic_regression_model = LogisticRegression(**parameters)"
   ]
  },
  {
   "cell_type": "code",
   "execution_count": 26,
   "id": "adac6b7e",
   "metadata": {},
   "outputs": [
    {
     "data": {
      "text/html": [
       "<style>#sk-container-id-4 {color: black;}#sk-container-id-4 pre{padding: 0;}#sk-container-id-4 div.sk-toggleable {background-color: white;}#sk-container-id-4 label.sk-toggleable__label {cursor: pointer;display: block;width: 100%;margin-bottom: 0;padding: 0.3em;box-sizing: border-box;text-align: center;}#sk-container-id-4 label.sk-toggleable__label-arrow:before {content: \"▸\";float: left;margin-right: 0.25em;color: #696969;}#sk-container-id-4 label.sk-toggleable__label-arrow:hover:before {color: black;}#sk-container-id-4 div.sk-estimator:hover label.sk-toggleable__label-arrow:before {color: black;}#sk-container-id-4 div.sk-toggleable__content {max-height: 0;max-width: 0;overflow: hidden;text-align: left;background-color: #f0f8ff;}#sk-container-id-4 div.sk-toggleable__content pre {margin: 0.2em;color: black;border-radius: 0.25em;background-color: #f0f8ff;}#sk-container-id-4 input.sk-toggleable__control:checked~div.sk-toggleable__content {max-height: 200px;max-width: 100%;overflow: auto;}#sk-container-id-4 input.sk-toggleable__control:checked~label.sk-toggleable__label-arrow:before {content: \"▾\";}#sk-container-id-4 div.sk-estimator input.sk-toggleable__control:checked~label.sk-toggleable__label {background-color: #d4ebff;}#sk-container-id-4 div.sk-label input.sk-toggleable__control:checked~label.sk-toggleable__label {background-color: #d4ebff;}#sk-container-id-4 input.sk-hidden--visually {border: 0;clip: rect(1px 1px 1px 1px);clip: rect(1px, 1px, 1px, 1px);height: 1px;margin: -1px;overflow: hidden;padding: 0;position: absolute;width: 1px;}#sk-container-id-4 div.sk-estimator {font-family: monospace;background-color: #f0f8ff;border: 1px dotted black;border-radius: 0.25em;box-sizing: border-box;margin-bottom: 0.5em;}#sk-container-id-4 div.sk-estimator:hover {background-color: #d4ebff;}#sk-container-id-4 div.sk-parallel-item::after {content: \"\";width: 100%;border-bottom: 1px solid gray;flex-grow: 1;}#sk-container-id-4 div.sk-label:hover label.sk-toggleable__label {background-color: #d4ebff;}#sk-container-id-4 div.sk-serial::before {content: \"\";position: absolute;border-left: 1px solid gray;box-sizing: border-box;top: 0;bottom: 0;left: 50%;z-index: 0;}#sk-container-id-4 div.sk-serial {display: flex;flex-direction: column;align-items: center;background-color: white;padding-right: 0.2em;padding-left: 0.2em;position: relative;}#sk-container-id-4 div.sk-item {position: relative;z-index: 1;}#sk-container-id-4 div.sk-parallel {display: flex;align-items: stretch;justify-content: center;background-color: white;position: relative;}#sk-container-id-4 div.sk-item::before, #sk-container-id-4 div.sk-parallel-item::before {content: \"\";position: absolute;border-left: 1px solid gray;box-sizing: border-box;top: 0;bottom: 0;left: 50%;z-index: -1;}#sk-container-id-4 div.sk-parallel-item {display: flex;flex-direction: column;z-index: 1;position: relative;background-color: white;}#sk-container-id-4 div.sk-parallel-item:first-child::after {align-self: flex-end;width: 50%;}#sk-container-id-4 div.sk-parallel-item:last-child::after {align-self: flex-start;width: 50%;}#sk-container-id-4 div.sk-parallel-item:only-child::after {width: 0;}#sk-container-id-4 div.sk-dashed-wrapped {border: 1px dashed gray;margin: 0 0.4em 0.5em 0.4em;box-sizing: border-box;padding-bottom: 0.4em;background-color: white;}#sk-container-id-4 div.sk-label label {font-family: monospace;font-weight: bold;display: inline-block;line-height: 1.2em;}#sk-container-id-4 div.sk-label-container {text-align: center;}#sk-container-id-4 div.sk-container {/* jupyter's `normalize.less` sets `[hidden] { display: none; }` but bootstrap.min.css set `[hidden] { display: none !important; }` so we also need the `!important` here to be able to override the default hidden behavior on the sphinx rendered scikit-learn.org. See: https://github.com/scikit-learn/scikit-learn/issues/21755 */display: inline-block !important;position: relative;}#sk-container-id-4 div.sk-text-repr-fallback {display: none;}</style><div id=\"sk-container-id-4\" class=\"sk-top-container\"><div class=\"sk-text-repr-fallback\"><pre>LogisticRegression()</pre><b>In a Jupyter environment, please rerun this cell to show the HTML representation or trust the notebook. <br />On GitHub, the HTML representation is unable to render, please try loading this page with nbviewer.org.</b></div><div class=\"sk-container\" hidden><div class=\"sk-item\"><div class=\"sk-estimator sk-toggleable\"><input class=\"sk-toggleable__control sk-hidden--visually\" id=\"sk-estimator-id-4\" type=\"checkbox\" checked><label for=\"sk-estimator-id-4\" class=\"sk-toggleable__label sk-toggleable__label-arrow\">LogisticRegression</label><div class=\"sk-toggleable__content\"><pre>LogisticRegression()</pre></div></div></div></div></div>"
      ],
      "text/plain": [
       "LogisticRegression()"
      ]
     },
     "execution_count": 26,
     "metadata": {},
     "output_type": "execute_result"
    }
   ],
   "source": [
    "logistic_regression_model.fit(train_x,train_y)"
   ]
  },
  {
   "cell_type": "code",
   "execution_count": 41,
   "id": "1e2b4c3d",
   "metadata": {},
   "outputs": [
    {
     "name": "stdout",
     "output_type": "stream",
     "text": [
      "              precision    recall  f1-score   support\n",
      "\n",
      "           1       0.86      0.88      0.87       359\n",
      "           0       0.88      0.86      0.87       370\n",
      "\n",
      "    accuracy                           0.87       729\n",
      "   macro avg       0.87      0.87      0.87       729\n",
      "weighted avg       0.87      0.87      0.87       729\n",
      "\n"
     ]
    }
   ],
   "source": [
    "logistic_regression_predictions = logistic_regression_model.predict(test_x)\n",
    "\n",
    "\n",
    "\n",
    "logistic_regression_report = classification_report(test_y,logistic_regression_predictions,labels=[1,0])\n",
    "\n",
    "print(logistic_regression_report)"
   ]
  },
  {
   "cell_type": "code",
   "execution_count": 42,
   "id": "f6b53fd9",
   "metadata": {},
   "outputs": [
    {
     "data": {
      "text/plain": [
       "0.8710562414266118"
      ]
     },
     "execution_count": 42,
     "metadata": {},
     "output_type": "execute_result"
    }
   ],
   "source": [
    "logistic_regression_accuracy = accuracy_score(test_y,logistic_regression_predictions)\n",
    "\n",
    "logistic_regression_accuracy"
   ]
  },
  {
   "cell_type": "code",
   "execution_count": 43,
   "id": "aedeba78",
   "metadata": {},
   "outputs": [
    {
     "name": "stdout",
     "output_type": "stream",
     "text": [
      "[[316  43]\n",
      " [ 51 319]]\n"
     ]
    }
   ],
   "source": [
    "logistic_regression_matrix = confusion_matrix(test_y,logistic_regression_predictions, labels = [1,0])\n",
    "\n",
    "print(logistic_regression_matrix)"
   ]
  },
  {
   "cell_type": "code",
   "execution_count": 28,
   "id": "48138815",
   "metadata": {},
   "outputs": [
    {
     "name": "stderr",
     "output_type": "stream",
     "text": [
      "/var/folders/13/69ds98712kl8jghwycgkkmdr0000gn/T/ipykernel_47686/3613218897.py:14: UserWarning: *c* argument looks like a single numeric RGB or RGBA sequence, which should be avoided as value-mapping will have precedence in case its length matches with *x* & *y*.  Please use the *color* keyword-argument or provide a 2D array with a single row if you intend to specify the same RGB or RGBA value for all points.\n",
      "  plt.scatter(x_set[y_set_one_dimension == j, 0], x_set[y_set_one_dimension == j, 1],\n"
     ]
    },
    {
     "data": {
      "image/png": "[encoded data removed]",
      "text/plain": [
       "<Figure size 640x480 with 1 Axes>"
      ]
     },
     "metadata": {},
     "output_type": "display_data"
    }
   ],
   "source": [
    "from matplotlib.axes._axes import _log as matplotlib_axes_logger\n",
    "matplotlib_axes_logger.setLevel('ERROR')\n",
    "\n",
    "from matplotlib.colors import ListedColormap\n",
    "x_set, y_set = test_x, test_y\n",
    "y_set_one_dimension = y_set\n",
    "\n",
    "x1,x2 = np.meshgrid(np.arange(start = x_set[:,0].min()-1, stop = x_set[:,0].max()+1, step = 0.1),\n",
    "                    np.arange(start = x_set[:,1].min()-1, stop = x_set[:,1].max()+1, step = 0.1))\n",
    "plt.contourf(x1,x2, logistic_regression_model.predict(np.array([x1.ravel(), x2.ravel()]).T).reshape(x1.shape),\n",
    "            alpha = 0.5, cmap = ListedColormap(('red','blue')))\n",
    "\n",
    "for i, j in enumerate (np.unique(y_set)):\n",
    "  plt.scatter(x_set[y_set_one_dimension == j, 0], x_set[y_set_one_dimension == j, 1],\n",
    "              c = ListedColormap(('red','blue'))(i), label = j)\n",
    "plt.title('Stellar Classification')\n",
    "plt.xlabel('B-V')\n",
    "plt.ylabel('SpType')\n",
    "plt.legend()\n",
    "plt.show()"
   ]
  },
  {
   "cell_type": "markdown",
   "id": "0cfc754e",
   "metadata": {},
   "source": [
    "# Decision Tree"
   ]
  },
  {
   "cell_type": "code",
   "execution_count": 29,
   "id": "c4305ac5",
   "metadata": {},
   "outputs": [],
   "source": [
    "from sklearn.tree import DecisionTreeClassifier\n",
    "\n",
    "parameters = {\n",
    "    'criterion': 'gini',\n",
    "    'splitter': 'best',\n",
    "    'max_depth': None,\n",
    "    'min_samples_split': 2,\n",
    "    'min_samples_leaf': 1,\n",
    "    'max_features': None,\n",
    "    'random_state': None\n",
    "}\n",
    "\n",
    "decision_tree_model = DecisionTreeClassifier(**parameters)"
   ]
  },
  {
   "cell_type": "code",
   "execution_count": 30,
   "id": "f963c4e4",
   "metadata": {},
   "outputs": [
    {
     "data": {
      "text/html": [
       "<style>#sk-container-id-5 {color: black;}#sk-container-id-5 pre{padding: 0;}#sk-container-id-5 div.sk-toggleable {background-color: white;}#sk-container-id-5 label.sk-toggleable__label {cursor: pointer;display: block;width: 100%;margin-bottom: 0;padding: 0.3em;box-sizing: border-box;text-align: center;}#sk-container-id-5 label.sk-toggleable__label-arrow:before {content: \"▸\";float: left;margin-right: 0.25em;color: #696969;}#sk-container-id-5 label.sk-toggleable__label-arrow:hover:before {color: black;}#sk-container-id-5 div.sk-estimator:hover label.sk-toggleable__label-arrow:before {color: black;}#sk-container-id-5 div.sk-toggleable__content {max-height: 0;max-width: 0;overflow: hidden;text-align: left;background-color: #f0f8ff;}#sk-container-id-5 div.sk-toggleable__content pre {margin: 0.2em;color: black;border-radius: 0.25em;background-color: #f0f8ff;}#sk-container-id-5 input.sk-toggleable__control:checked~div.sk-toggleable__content {max-height: 200px;max-width: 100%;overflow: auto;}#sk-container-id-5 input.sk-toggleable__control:checked~label.sk-toggleable__label-arrow:before {content: \"▾\";}#sk-container-id-5 div.sk-estimator input.sk-toggleable__control:checked~label.sk-toggleable__label {background-color: #d4ebff;}#sk-container-id-5 div.sk-label input.sk-toggleable__control:checked~label.sk-toggleable__label {background-color: #d4ebff;}#sk-container-id-5 input.sk-hidden--visually {border: 0;clip: rect(1px 1px 1px 1px);clip: rect(1px, 1px, 1px, 1px);height: 1px;margin: -1px;overflow: hidden;padding: 0;position: absolute;width: 1px;}#sk-container-id-5 div.sk-estimator {font-family: monospace;background-color: #f0f8ff;border: 1px dotted black;border-radius: 0.25em;box-sizing: border-box;margin-bottom: 0.5em;}#sk-container-id-5 div.sk-estimator:hover {background-color: #d4ebff;}#sk-container-id-5 div.sk-parallel-item::after {content: \"\";width: 100%;border-bottom: 1px solid gray;flex-grow: 1;}#sk-container-id-5 div.sk-label:hover label.sk-toggleable__label {background-color: #d4ebff;}#sk-container-id-5 div.sk-serial::before {content: \"\";position: absolute;border-left: 1px solid gray;box-sizing: border-box;top: 0;bottom: 0;left: 50%;z-index: 0;}#sk-container-id-5 div.sk-serial {display: flex;flex-direction: column;align-items: center;background-color: white;padding-right: 0.2em;padding-left: 0.2em;position: relative;}#sk-container-id-5 div.sk-item {position: relative;z-index: 1;}#sk-container-id-5 div.sk-parallel {display: flex;align-items: stretch;justify-content: center;background-color: white;position: relative;}#sk-container-id-5 div.sk-item::before, #sk-container-id-5 div.sk-parallel-item::before {content: \"\";position: absolute;border-left: 1px solid gray;box-sizing: border-box;top: 0;bottom: 0;left: 50%;z-index: -1;}#sk-container-id-5 div.sk-parallel-item {display: flex;flex-direction: column;z-index: 1;position: relative;background-color: white;}#sk-container-id-5 div.sk-parallel-item:first-child::after {align-self: flex-end;width: 50%;}#sk-container-id-5 div.sk-parallel-item:last-child::after {align-self: flex-start;width: 50%;}#sk-container-id-5 div.sk-parallel-item:only-child::after {width: 0;}#sk-container-id-5 div.sk-dashed-wrapped {border: 1px dashed gray;margin: 0 0.4em 0.5em 0.4em;box-sizing: border-box;padding-bottom: 0.4em;background-color: white;}#sk-container-id-5 div.sk-label label {font-family: monospace;font-weight: bold;display: inline-block;line-height: 1.2em;}#sk-container-id-5 div.sk-label-container {text-align: center;}#sk-container-id-5 div.sk-container {/* jupyter's `normalize.less` sets `[hidden] { display: none; }` but bootstrap.min.css set `[hidden] { display: none !important; }` so we also need the `!important` here to be able to override the default hidden behavior on the sphinx rendered scikit-learn.org. See: https://github.com/scikit-learn/scikit-learn/issues/21755 */display: inline-block !important;position: relative;}#sk-container-id-5 div.sk-text-repr-fallback {display: none;}</style><div id=\"sk-container-id-5\" class=\"sk-top-container\"><div class=\"sk-text-repr-fallback\"><pre>DecisionTreeClassifier()</pre><b>In a Jupyter environment, please rerun this cell to show the HTML representation or trust the notebook. <br />On GitHub, the HTML representation is unable to render, please try loading this page with nbviewer.org.</b></div><div class=\"sk-container\" hidden><div class=\"sk-item\"><div class=\"sk-estimator sk-toggleable\"><input class=\"sk-toggleable__control sk-hidden--visually\" id=\"sk-estimator-id-5\" type=\"checkbox\" checked><label for=\"sk-estimator-id-5\" class=\"sk-toggleable__label sk-toggleable__label-arrow\">DecisionTreeClassifier</label><div class=\"sk-toggleable__content\"><pre>DecisionTreeClassifier()</pre></div></div></div></div></div>"
      ],
      "text/plain": [
       "DecisionTreeClassifier()"
      ]
     },
     "execution_count": 30,
     "metadata": {},
     "output_type": "execute_result"
    }
   ],
   "source": [
    "decision_tree_model.fit(train_x,train_y)"
   ]
  },
  {
   "cell_type": "code",
   "execution_count": 44,
   "id": "3c0f680a",
   "metadata": {},
   "outputs": [
    {
     "name": "stdout",
     "output_type": "stream",
     "text": [
      "              precision    recall  f1-score   support\n",
      "\n",
      "           1       0.92      0.95      0.93       359\n",
      "           0       0.95      0.92      0.93       370\n",
      "\n",
      "    accuracy                           0.93       729\n",
      "   macro avg       0.93      0.93      0.93       729\n",
      "weighted avg       0.93      0.93      0.93       729\n",
      "\n"
     ]
    }
   ],
   "source": [
    "decision_tree_predictions = decision_tree_model.predict(test_x)\n",
    "\n",
    "decision_tree_report = classification_report(test_y,decision_tree_predictions,labels=[1,0])\n",
    "\n",
    "print(decision_tree_report)"
   ]
  },
  {
   "cell_type": "code",
   "execution_count": 46,
   "id": "7b1f3039",
   "metadata": {},
   "outputs": [
    {
     "data": {
      "text/plain": [
       "0.934156378600823"
      ]
     },
     "execution_count": 46,
     "metadata": {},
     "output_type": "execute_result"
    }
   ],
   "source": [
    "decision_tree_accuracy = accuracy_score(test_y,decision_tree_predictions)\n",
    "\n",
    "decision_tree_accuracy"
   ]
  },
  {
   "cell_type": "code",
   "execution_count": 47,
   "id": "d25bff61",
   "metadata": {},
   "outputs": [
    {
     "name": "stdout",
     "output_type": "stream",
     "text": [
      "[[341  18]\n",
      " [ 30 340]]\n"
     ]
    }
   ],
   "source": [
    "decision_tree_matrix = confusion_matrix(test_y,decision_tree_predictions, labels = [1,0])\n",
    "\n",
    "print(decision_tree_matrix)"
   ]
  },
  {
   "cell_type": "code",
   "execution_count": 32,
   "id": "957a16eb",
   "metadata": {},
   "outputs": [
    {
     "name": "stderr",
     "output_type": "stream",
     "text": [
      "/var/folders/13/69ds98712kl8jghwycgkkmdr0000gn/T/ipykernel_47686/3698209738.py:14: UserWarning: *c* argument looks like a single numeric RGB or RGBA sequence, which should be avoided as value-mapping will have precedence in case its length matches with *x* & *y*.  Please use the *color* keyword-argument or provide a 2D array with a single row if you intend to specify the same RGB or RGBA value for all points.\n",
      "  plt.scatter(x_set[y_set_one_dimension == j, 0], x_set[y_set_one_dimension == j, 1],\n"
     ]
    },
    {
     "data": {
      "image/png": "[encoded data removed]",
      "text/plain": [
       "<Figure size 640x480 with 1 Axes>"
      ]
     },
     "metadata": {},
     "output_type": "display_data"
    }
   ],
   "source": [
    "from matplotlib.axes._axes import _log as matplotlib_axes_logger\n",
    "matplotlib_axes_logger.setLevel('ERROR')\n",
    "\n",
    "from matplotlib.colors import ListedColormap\n",
    "x_set, y_set = test_x, test_y\n",
    "y_set_one_dimension = y_set\n",
    "\n",
    "x1,x2 = np.meshgrid(np.arange(start = x_set[:,0].min()-1, stop = x_set[:,0].max()+1, step = 0.1),\n",
    "                    np.arange(start = x_set[:,1].min()-1, stop = x_set[:,1].max()+1, step = 0.1))\n",
    "plt.contourf(x1,x2, decision_tree_model.predict(np.array([x1.ravel(), x2.ravel()]).T).reshape(x1.shape),\n",
    "            alpha = 0.5, cmap = ListedColormap(('red','blue')))\n",
    "\n",
    "for i, j in enumerate (np.unique(y_set)):\n",
    "  plt.scatter(x_set[y_set_one_dimension == j, 0], x_set[y_set_one_dimension == j, 1],\n",
    "              c = ListedColormap(('red','blue'))(i), label = j)\n",
    "plt.title('Stellar Classification')\n",
    "plt.xlabel('B-V')\n",
    "plt.ylabel('SpType')\n",
    "plt.legend()\n",
    "plt.show()"
   ]
  },
  {
   "cell_type": "code",
   "execution_count": null,
   "id": "114a64b4",
   "metadata": {},
   "outputs": [],
   "source": []
  }
 ],
 "metadata": {
  "kernelspec": {
   "display_name": "Python 3 (ipykernel)",
   "language": "python",
   "name": "python3"
  },
  "language_info": {
   "codemirror_mode": {
    "name": "ipython",
    "version": 3
   },
   "file_extension": ".py",
   "mimetype": "text/x-python",
   "name": "python",
   "nbconvert_exporter": "python",
   "pygments_lexer": "ipython3",
   "version": "3.11.5"
  }
 },
 "nbformat": 4,
 "nbformat_minor": 5
}
